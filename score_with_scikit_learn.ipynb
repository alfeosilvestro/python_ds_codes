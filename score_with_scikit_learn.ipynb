{
  "metadata": {
    "kernelspec": {
      "name": "py-dku-venv-scikit_learn_py36",
      "display_name": "Python (env scikit_learn_py36)",
      "language": "python"
    },
    "creator": "admin",
    "createdOn": 1627266553974,
    "tags": [
      "recipe-editor"
    ],
    "customFields": {},
    "hide_input": false,
    "language_info": {
      "name": "python",
      "version": "3.6.8",
      "mimetype": "text/x-python",
      "codemirror_mode": {
        "name": "ipython",
        "version": 3
      },
      "pygments_lexer": "ipython3",
      "nbconvert_exporter": "python",
      "file_extension": ".py"
    },
    "modifiedBy": "admin"
  },
  "nbformat": 4,
  "nbformat_minor": 1,
  "cells": [
    {
      "execution_count": 0,
      "cell_type": "code",
      "metadata": {},
      "source": [
        "# -*- coding: utf-8 -*-\nimport os\nimport dataiku\nimport numpy as np\nimport pandas as pd\nimport sklearn as sk\nfrom sklearn.externals import joblib"
      ],
      "outputs": []
    },
    {
      "execution_count": 0,
      "cell_type": "code",
      "metadata": {},
      "source": [
        "# Recipe inputs\nfolder_path \u003d dataiku.Folder(\"SLD4V7Uq\").get_path()\ndf \u003d dataiku.Dataset(\"test\").get_dataframe()"
      ],
      "outputs": []
    },
    {
      "execution_count": 0,
      "cell_type": "code",
      "metadata": {},
      "source": [
        "#-----------------------------------------------------------------\n# Scikit objects\n#-----------------------------------------------------------------\nschema \u003d joblib.load(os.path.join(folder_path, \u0027schema.pkl\u0027))\ntrf_num \u003d joblib.load(os.path.join(folder_path, \u0027trf_num.pkl\u0027))\ntrf_cat \u003d joblib.load(os.path.join(folder_path, \u0027trf_cat.pkl\u0027))\nclf \u003d joblib.load(os.path.join(folder_path, \u0027model.pkl\u0027))"
      ],
      "outputs": []
    },
    {
      "execution_count": 0,
      "cell_type": "code",
      "metadata": {},
      "source": [
        "#-----------------------------------------------------------------\n# Transform and score\n#-----------------------------------------------------------------\n\n# Preprocess numerical features\nx_num \u003d trf_num.transform( df[schema[\u0027features_num\u0027]] )\n\n# Preprocess categorical features\ndf_cat \u003d df[schema[\u0027features_cat\u0027]]\nfeatures \u003d df_cat.columns\n\nfor feature in features:\n    if df_cat[feature].dtype !\u003d \u0027object\u0027:\n        df_cat[feature] \u003d df_cat[feature].astype(str)\ndata \u003d df_cat.to_dict(orient\u003d\u0027records\u0027)\n\nx_cat \u003d trf_cat.transform( data )"
      ],
      "outputs": []
    },
    {
      "execution_count": 0,
      "cell_type": "code",
      "metadata": {},
      "source": [
        "# Concatenate\nX \u003d np.concatenate((x_cat, x_num), axis\u003d1)\n\n# Actually score the new records\nscores \u003d clf.predict_proba(X)"
      ],
      "outputs": []
    },
    {
      "execution_count": 0,
      "cell_type": "code",
      "metadata": {},
      "source": [
        "#-----------------------------------------------------------------\n# Reshape\n#-----------------------------------------------------------------\npreds \u003d pd.DataFrame(scores, index\u003ddf.index).rename(columns\u003d{0: \u0027proba_False\u0027, 1: \u0027proba_True\u0027})\nall_preds \u003d df.join(preds)"
      ],
      "outputs": []
    },
    {
      "execution_count": 0,
      "cell_type": "code",
      "metadata": {},
      "source": [
        "# Write recipe outputs\nscikit_scored \u003d dataiku.Dataset(\"scikit_scored\")\nscikit_scored.write_with_schema(all_preds)"
      ],
      "outputs": []
    }
  ]
}
