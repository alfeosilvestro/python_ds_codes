{
  "metadata": {
    "kernelspec": {
      "name": "py-dku-venv-scikit_learn_py36",
      "display_name": "Python (env scikit_learn_py36)",
      "language": "python"
    },
    "creator": "admin",
    "createdOn": 1628412387046,
    "tags": [
      "recipe-editor"
    ],
    "customFields": {},
    "hide_input": false,
    "language_info": {
      "name": "python",
      "version": "3.6.8",
      "mimetype": "text/x-python",
      "codemirror_mode": {
        "name": "ipython",
        "version": 3
      },
      "pygments_lexer": "ipython3",
      "nbconvert_exporter": "python",
      "file_extension": ".py"
    },
    "modifiedBy": "admin"
  },
  "nbformat": 4,
  "nbformat_minor": 1,
  "cells": [
    {
      "execution_count": 0,
      "cell_type": "code",
      "metadata": {},
      "source": [
        "# -*- coding: utf-8 -*-\nimport dataiku\nimport numpy as np\nimport pandas as pd\nimport matplotlib as mpl\nimport matplotlib.pyplot as plt\nimport seaborn as sns\nimport warnings; warnings.filterwarnings(action\u003d\u0027once\u0027)\nimport os\n\nfrom dataiku import pandasutils as pdu\n\n# Read recipe inputs\nscikit_scored \u003d dataiku.Dataset(\"scikit_scored\")\ndf \u003d scikit_scored.get_dataframe()\n\n# Write recipe outputs\nplot \u003d dataiku.Folder(\"WnhjcxZ5\")\nplot_info \u003d plot.get_info()"
      ],
      "outputs": []
    },
    {
      "execution_count": 0,
      "cell_type": "code",
      "metadata": {},
      "source": [
        "large \u003d 22; med \u003d 16; small \u003d 12\nparams \u003d {\u0027axes.titlesize\u0027: large,\n          \u0027legend.fontsize\u0027: med,\n          \u0027figure.figsize\u0027: (16, 10),\n          \u0027axes.labelsize\u0027: med,\n          \u0027axes.titlesize\u0027: med,\n          \u0027xtick.labelsize\u0027: med,\n          \u0027ytick.labelsize\u0027: med,\n          \u0027figure.titlesize\u0027: large}\nplt.rcParams.update(params)\nplt.style.use(\u0027seaborn-whitegrid\u0027)\nsns.set_style(\"white\")"
      ],
      "outputs": []
    },
    {
      "execution_count": 0,
      "cell_type": "code",
      "metadata": {},
      "source": [
        "# # Plot\n# plt.figure(figsize\u003d(10,8), dpi\u003d 200)\n# sns.pairplot(df, kind\u003d\"reg\", hue\u003d\"Churn\")\n# plt.show()\n\n# Plot\nplt.figure(figsize\u003d(15,15), dpi\u003d 100)\nsns.heatmap(df.corr(), xticklabels\u003ddf.corr().columns, yticklabels\u003ddf.corr().columns, cmap\u003d\u0027RdYlGn\u0027, center\u003d0, annot\u003dTrue)\n\n# Decorations\nplt.title(\u0027Correlogram of Columns\u0027, fontsize\u003d20)\nplt.xticks(fontsize\u003d12)\nplt.yticks(fontsize\u003d12)\nplt.show()"
      ],
      "outputs": []
    },
    {
      "execution_count": 0,
      "cell_type": "code",
      "metadata": {},
      "source": [
        "strFile \u003d plot.get_path() + \u0027/statistics.png\u0027\nif os.path.isfile(strFile):\n   os.remove(strFile)   # Opt.: os.system(\"rm \"+strFile)\n\nplt.savefig(strFile)"
      ],
      "outputs": []
    }
  ]
}
