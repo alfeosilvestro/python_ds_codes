{
  "metadata": {
    "kernelspec": {
      "name": "py-dku-venv-scikit_learn_py36",
      "display_name": "Python (env scikit_learn_py36)",
      "language": "python"
    },
    "creator": "admin",
    "createdOn": 1627266490799,
    "tags": [
      "recipe-editor"
    ],
    "customFields": {},
    "hide_input": false,
    "language_info": {
      "name": "python",
      "version": "3.6.8",
      "mimetype": "text/x-python",
      "codemirror_mode": {
        "name": "ipython",
        "version": 3
      },
      "pygments_lexer": "ipython3",
      "nbconvert_exporter": "python",
      "file_extension": ".py"
    },
    "modifiedBy": "admin"
  },
  "nbformat": 4,
  "nbformat_minor": 1,
  "cells": [
    {
      "execution_count": 0,
      "cell_type": "code",
      "metadata": {},
      "source": [
        "# -*- coding: utf-8 -*-\nimport os\nimport dataiku\nimport numpy as np\nimport pandas as pd\nfrom sklearn.externals import joblib\nfrom sklearn.pipeline import Pipeline\nfrom sklearn.preprocessing import Imputer\nfrom sklearn.preprocessing import StandardScaler\nfrom sklearn.feature_extraction import DictVectorizer\nfrom sklearn.model_selection import GridSearchCV\n#from sklearn.grid_search import GridSearchCV\nfrom sklearn.ensemble import RandomForestClassifier"
      ],
      "outputs": []
    },
    {
      "execution_count": 0,
      "cell_type": "code",
      "metadata": {},
      "source": [
        "# Recipe inputs\ndf \u003d dataiku.Dataset(\"train\").get_dataframe()\n\ndf.head(2)"
      ],
      "outputs": []
    },
    {
      "execution_count": 0,
      "cell_type": "code",
      "metadata": {},
      "source": [
        "df.columns"
      ],
      "outputs": []
    },
    {
      "execution_count": 0,
      "cell_type": "code",
      "metadata": {},
      "source": [
        "#-----------------------------------------------------------------\n# Settings\n#-----------------------------------------------------------------\nSCHEMA \u003d {\n    \u0027target\u0027: \u0027Churn\u0027,\n    \u0027features_num\u0027: [\n        \u0027Account Length\u0027, \u0027VMail Message\u0027, \u0027Day Mins\u0027, \u0027Day Calls\u0027, \u0027Day Charge\u0027, \u0027Eve Mins\u0027,\n        \u0027Eve Calls\u0027, \u0027Eve Charge\u0027, \u0027Night Mins\u0027, \u0027Night Calls\u0027, \u0027Night Charge\u0027, \u0027Intl Mins\u0027,\n        \u0027Intl Calls\u0027, \u0027Intl Charge\u0027, \u0027CustServ Calls\u0027\n    ],\n    \u0027features_cat\u0027: [\n        \u0027State\u0027, \u0027Area Code\u0027, \u0027Intl Plan\u0027, \u0027VMail Plan\u0027\n    ]\n}"
      ],
      "outputs": []
    },
    {
      "execution_count": 0,
      "cell_type": "code",
      "metadata": {},
      "source": [
        "#-----------------------------------------------------------------\n# Preprocessing\n#-----------------------------------------------------------------\n\n# Numerical variables\ndf_num \u003d df[SCHEMA[\u0027features_num\u0027]]\n\ntrf_num \u003d Pipeline([\n    (\u0027imp\u0027, Imputer(strategy\u003d\u0027median\u0027)),\n    (\u0027sts\u0027, StandardScaler()),\n])\n\nx_num \u003d trf_num.fit_transform(df_num)\n\n# Categorical variables\ndf_cat \u003d df[SCHEMA[\u0027features_cat\u0027]]\nfeatures \u003d df_cat.columns\n\nfor feature in features:\n    if df_cat[feature].dtype !\u003d \u0027object\u0027:\n        df_cat[feature] \u003d df_cat[feature].astype(str)\n\ndata \u003d df_cat.to_dict(orient\u003d\u0027records\u0027)\n\ntrf_cat \u003d DictVectorizer(sparse\u003dFalse)\nx_cat \u003d trf_cat.fit_transform(data)\n\n# Concat\nX \u003d np.concatenate((x_cat, x_num), axis\u003d1)\nY \u003d df[SCHEMA[\u0027target\u0027]].values"
      ],
      "outputs": []
    },
    {
      "execution_count": 0,
      "cell_type": "code",
      "metadata": {},
      "source": [
        "#-------------------------------------------------------------------------\n# TRAINING\n#-------------------------------------------------------------------------\n\nparam_grid \u003d {\n    \"max_depth\"        : [3, None],\n    \"max_features\"     : [1, 3, 10],\n    \"min_samples_split\": [2, 3, 10],\n    \"min_samples_leaf\" : [1, 3, 10],\n    \"bootstrap\"        : [True, False],\n    \"criterion\"        : [\"gini\", \"entropy\"]\n}\n\nclf \u003d RandomForestClassifier()\ngs \u003d GridSearchCV(clf, param_grid\u003dparam_grid, n_jobs\u003d-1, scoring\u003d\u0027roc_auc\u0027)\ngs.fit(X, Y)"
      ],
      "outputs": []
    },
    {
      "execution_count": 0,
      "cell_type": "code",
      "metadata": {},
      "source": [
        "# Recipe outputs\nmodel_scikit \u003d dataiku.Folder(\"SLD4V7Uq\").get_path()\n\nfor file in os.listdir(model_scikit):\n    try: os.remove(file)\n    except: pass"
      ],
      "outputs": []
    },
    {
      "execution_count": 0,
      "cell_type": "code",
      "metadata": {},
      "source": [
        "serials \u003d [\n    {\u0027pkl\u0027: \u0027schema.pkl\u0027, \u0027obj\u0027: SCHEMA},\n    {\u0027pkl\u0027: \u0027trf_num.pkl\u0027, \u0027obj\u0027: trf_num},\n    {\u0027pkl\u0027: \u0027trf_cat.pkl\u0027, \u0027obj\u0027: trf_cat},\n    {\u0027pkl\u0027: \u0027model.pkl\u0027, \u0027obj\u0027: gs.best_estimator_},\n]"
      ],
      "outputs": []
    },
    {
      "execution_count": 0,
      "cell_type": "code",
      "metadata": {},
      "source": [
        "for serial in serials:\n    fp \u003d os.path.join(model_scikit, serial[\u0027pkl\u0027])\n    joblib.dump(serial[\u0027obj\u0027], fp)"
      ],
      "outputs": []
    }
  ]
}
