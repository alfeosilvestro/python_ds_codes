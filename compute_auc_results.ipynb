{
  "metadata": {
    "kernelspec": {
      "name": "python3",
      "display_name": "Python 3",
      "language": "python"
    },
    "creator": "admin",
    "createdOn": 1627266620505,
    "tags": [
      "recipe-editor"
    ],
    "customFields": {},
    "hide_input": false,
    "language_info": {
      "name": "python",
      "version": "3.6.8",
      "mimetype": "text/x-python",
      "codemirror_mode": {
        "name": "ipython",
        "version": 3
      },
      "pygments_lexer": "ipython3",
      "nbconvert_exporter": "python",
      "file_extension": ".py"
    },
    "modifiedBy": "admin"
  },
  "nbformat": 4,
  "nbformat_minor": 1,
  "cells": [
    {
      "execution_count": 0,
      "cell_type": "code",
      "metadata": {},
      "source": [
        "# -*- coding: utf-8 -*-\nimport dataiku\nimport numpy as np\nimport pandas as pd\nfrom sklearn.metrics import roc_auc_score\n\nfrom datetime import datetime\n\n# Read recipe inputs\nscikit_scored \u003d dataiku.Dataset(\"scikit_scored\")\ndf1 \u003d scikit_scored.get_dataframe()\ncurrent_dt \u003d datetime.now()"
      ],
      "outputs": []
    },
    {
      "execution_count": 0,
      "cell_type": "code",
      "metadata": {},
      "source": [
        "# Measure AUC\nprint (\u0027[+] Building AUC for model 1...\u0027)\nauc1 \u003d roc_auc_score(df1[\u0027Churn\u0027].astype(bool).values, df1[\u0027proba_True\u0027].values)\nauc1 \u003d pd.Series(auc1, name\u003d\u0027auc\u0027)\nauc1 \u003d pd.DataFrame(auc1)\nauc1[\u0027model\u0027] \u003d \u0027DSS Python\u0027   \nauc1[\u0027timestamp\u0027] \u003d current_dt"
      ],
      "outputs": []
    },
    {
      "execution_count": 0,
      "cell_type": "code",
      "metadata": {},
      "source": [
        "auc \u003d pd.DataFrame(auc1)\n\n\n# Write recipe outputs\nauc_results \u003d dataiku.Dataset(\"auc_results\")\nauc_results.write_with_schema(auc)"
      ],
      "outputs": []
    }
  ]
}
