{
  "metadata": {
    "kernelspec": {
      "name": "python3",
      "display_name": "Python 3",
      "language": "python"
    },
    "creator": "dataiku-admin",
    "createdOn": 1667353325402,
    "tags": [],
    "customFields": {},
    "hide_input": false,
    "language_info": {
      "name": "python",
      "version": "3.6.8",
      "mimetype": "text/x-python",
      "codemirror_mode": {
        "name": "ipython",
        "version": 3
      },
      "pygments_lexer": "ipython3",
      "nbconvert_exporter": "python",
      "file_extension": ".py"
    },
    "modifiedBy": "dataiku-admin"
  },
  "nbformat": 4,
  "nbformat_minor": 1,
  "cells": [
    {
      "execution_count": 0,
      "cell_type": "code",
      "metadata": {},
      "source": [
        "# -*- coding: utf-8 -*-\nimport dataiku\nimport pandas as pd, numpy as np\nfrom dataiku import pandasutils as pdu\n\ninput_dataset_name \u003d \"LOANS_ENRICHED_prepared\"\noutput_dataset_name \u003d \"LOANS_FE\""
      ],
      "outputs": []
    },
    {
      "execution_count": 0,
      "cell_type": "code",
      "metadata": {},
      "source": [
        "# Read recipe inputs\nLOANS_ENRICHED_prepared \u003d dataiku.Dataset(input_dataset_name)\ndf \u003d LOANS_ENRICHED_prepared.get_dataframe()"
      ],
      "outputs": []
    },
    {
      "execution_count": 0,
      "cell_type": "code",
      "metadata": {},
      "source": [
        "df[\u0027DEBT_AMNT\u0027] \u003d [d*df.INSTALLMENT.values[idx]/100.0 for idx,d in enumerate(df.DTI.values)]\ndf[\"DEBT_AMNT_NORM\"] \u003d (df.DEBT_AMNT.values - np.mean(df.DEBT_AMNT.values))/np.std(df.DEBT_AMNT.values)\ndf[\"INSTALL_NORM\"] \u003d (df.INSTALLMENT.values - np.mean(df.INSTALLMENT.values))/np.std(df.INSTALLMENT.values)"
      ],
      "outputs": []
    },
    {
      "execution_count": 0,
      "cell_type": "code",
      "metadata": {},
      "source": [
        "# Write recipe outputs\nLOANS_FE \u003d dataiku.Dataset(output_dataset_name)\nLOANS_FE.write_with_schema(df)"
      ],
      "outputs": []
    }
  ]
}